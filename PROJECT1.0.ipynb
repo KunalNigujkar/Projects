{
 "cells": [
  {
   "cell_type": "markdown",
   "id": "94b51dce",
   "metadata": {},
   "source": [
    "# CALCULATING AGGREGATE PERCENTAGE "
   ]
  },
  {
   "cell_type": "code",
   "execution_count": 5,
   "id": "8bbe86de",
   "metadata": {},
   "outputs": [
    {
     "name": "stdout",
     "output_type": "stream",
     "text": [
      "Enter Your Name:Kunal\n",
      "Enter Your Class:10\n",
      "Enter your Division:87\n",
      "Marks Obtained in ENGLISH :88\n",
      "Marks Obtained in MATHS :79\n",
      "Marks Obtained in HINDI :89\n",
      "YOUR CALCULATED PERCENTAGE-\n",
      "NAME : Kunal\n",
      "STANDARD : 10\n",
      "DIVISION : 87\n",
      "Your Percentage=\t  196.66666666666666\n"
     ]
    }
   ],
   "source": [
    "Name=str(input(\"Enter Your Name:\"))\n",
    "Std=int(input(\"Enter Your Class:\"))\n",
    "Div=str(input(\"Enter your Division:\"))\n",
    "mks1= int(input(\"Marks Obtained in ENGLISH :\"))\n",
    "mks2= int(input(\"Marks Obtained in MATHS :\"))\n",
    "mks3= int(input(\"Marks Obtained in HINDI :\"))\n",
    "Percentage= float(mks1+mks2+mks3/ 3)\n",
    "print(\"YOUR CALCULATED PERCENTAGE-\")\n",
    "print(\"NAME :\",Name)\n",
    "print(\"STANDARD :\",Std)\n",
    "print(\"DIVISION :\",Div)\n",
    "print(\"Your Percentage=\\t \",Percentage)"
   ]
  }
 ],
 "metadata": {
  "kernelspec": {
   "display_name": "Python 3",
   "language": "python",
   "name": "python3"
  },
  "language_info": {
   "codemirror_mode": {
    "name": "ipython",
    "version": 3
   },
   "file_extension": ".py",
   "mimetype": "text/x-python",
   "name": "python",
   "nbconvert_exporter": "python",
   "pygments_lexer": "ipython3",
   "version": "3.8.8"
  }
 },
 "nbformat": 4,
 "nbformat_minor": 5
}
